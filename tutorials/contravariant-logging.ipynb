{
 "cells": [
  {
   "cell_type": "markdown",
   "id": "1f9cbd14-088b-4f30-b289-6ccfa9d03840",
   "metadata": {},
   "source": [
    "### Introduction to contravariant logging\n",
    "\n",
    "We decided to use contravariant logging approach. I use here `co-log` lib naming convention because that is what we have in the code base now (`cardano-node` uses `contra-tracer`).\n",
    "\n",
    "Some initial boilerplate imports and language extensions:"
   ]
  },
  {
   "cell_type": "code",
   "execution_count": 55,
   "id": "b6efcdda-d81b-4b4c-a7d7-9a94dbcd2177",
   "metadata": {},
   "outputs": [],
   "source": [
    ":ext GeneralizedNewtypeDeriving\n",
    ":ext BlockArguments\n",
    "\n",
    "import Control.Concurrent (forkIO, threadDelay)\n",
    "import Data.Foldable (for_)\n",
    "import Control.Monad (when)"
   ]
  },
  {
   "cell_type": "markdown",
   "id": "a4086bf4-e8ba-4b64-92a9-4be92be9905a",
   "metadata": {},
   "source": [
    "Let's define the core logging data type which is just a logging function `msg -> m ()` (for example `Text -> IO ()`). We wrap in a `newtype` and call it `LogAction`:"
   ]
  },
  {
   "cell_type": "code",
   "execution_count": 2,
   "id": "effaa10f-a732-4701-a429-4205737603f1",
   "metadata": {},
   "outputs": [],
   "source": [
    "newtype LogAction m msg = LogAction (msg -> m ())\n",
    "\n",
    "-- Let's define a handy runner which just applies the function.\n",
    "log :: LogAction m msg -> msg -> m ()\n",
    "log (LogAction l) = l"
   ]
  },
  {
   "cell_type": "markdown",
   "id": "f8ff3103-202e-4746-8357-7ee8cc297eb2",
   "metadata": {},
   "source": [
    "For example `putStrLn` can be easily turned into a log action and it is `String` logging action in `IO`:"
   ]
  },
  {
   "cell_type": "code",
   "execution_count": 3,
   "id": "42be0fcf-b905-42a6-9fbc-9d3388c594c8",
   "metadata": {},
   "outputs": [],
   "source": [
    "consoleLogAction :: LogAction IO String\n",
    "consoleLogAction = LogAction putStrLn"
   ]
  },
  {
   "cell_type": "markdown",
   "id": "cb830eed-53e7-4564-8e86-2605e0da0eb1",
   "metadata": {},
   "source": [
    "We can also easily implement a file logger (but please don't use it in production ;-):"
   ]
  },
  {
   "cell_type": "code",
   "execution_count": 4,
   "id": "ba0e102b-a1ab-4e9e-819e-5affbb357860",
   "metadata": {},
   "outputs": [],
   "source": [
    "fileLogAction :: FilePath -> LogAction IO String\n",
    "fileLogAction filePath = LogAction \\msg -> appendFile filePath (msg <> \"\\n\")"
   ]
  },
  {
   "cell_type": "markdown",
   "id": "94e7f7cf-c5d9-414b-b40c-f3727fefe992",
   "metadata": {},
   "source": [
    "#### Combining actions \"veritically\"\n",
    "\n",
    "> Note: I used \"vertically\" in the title because we can imagine that we have a logging pipeline - `log entry -> log transformation / adjustment -> log consumers`. From the application point of view we have a single entry point to this pipeline.\n",
    "\n",
    "If we have loggers which work with the same message type (`String` in our case) I think that we have pretty natural way of \"combining\" the logging actions - we are nearly able to use `deriving newtype` for that and use `->` and `m ()` underlying instances but let's write this composition by hand... I mean please implement `<>` and `mempty`: "
   ]
  },
  {
   "cell_type": "code",
   "execution_count": 5,
   "id": "00ff3eb4-4b55-4416-95f7-129431f88a93",
   "metadata": {
    "tags": []
   },
   "outputs": [],
   "source": [
    "instance (Applicative m) => Semigroup (LogAction m msg) where\n",
    "  LogAction log1 <> LogAction log2 = LogAction \\msg -> ???\n",
    "  \n",
    "instance (Applicative m) => Monoid (LogAction m msg) where\n",
    "  mempty = LogAction \\msg -> ??"
   ]
  },
  {
   "cell_type": "markdown",
   "id": "bcd75048-022d-4ecc-ba1a-f13389a6dda2",
   "metadata": {},
   "source": [
    "We should be able to compose multiple loggers now:"
   ]
  },
  {
   "cell_type": "code",
   "execution_count": 6,
   "id": "6ba71c4d-47bd-43c3-8ebe-d35cda9b3610",
   "metadata": {},
   "outputs": [],
   "source": [
    "appLogAction = consoleLogAction <> fileLogAction \"app.log\""
   ]
  },
  {
   "cell_type": "markdown",
   "id": "7add0423-c4b9-4f11-80bd-087fa6a57791",
   "metadata": {},
   "source": [
    "So let's log something.."
   ]
  },
  {
   "cell_type": "code",
   "execution_count": 7,
   "id": "361bc4a1-1254-4195-903e-ddeda284f24a",
   "metadata": {},
   "outputs": [
    {
     "data": {
      "text/plain": [
       "Hello World!"
      ]
     },
     "metadata": {},
     "output_type": "display_data"
    }
   ],
   "source": [
    "log appLogAction \"Hello World!\""
   ]
  },
  {
   "cell_type": "markdown",
   "id": "46a5bd92-4361-4db7-8b35-2e53efebb42e",
   "metadata": {},
   "source": [
    "and check if both loggers have consumed the message: "
   ]
  },
  {
   "cell_type": "code",
   "execution_count": 8,
   "id": "e62cb6ac-4492-4a96-8427-3982260c5015",
   "metadata": {},
   "outputs": [
    {
     "data": {
      "text/plain": [
       "Hello World!"
      ]
     },
     "metadata": {},
     "output_type": "display_data"
    }
   ],
   "source": [
    "readFile \"app.log\" >>= putStrLn"
   ]
  },
  {
   "cell_type": "markdown",
   "id": "4cd7e2ff-dd38-46ad-b6c3-187cf9f05e16",
   "metadata": {},
   "source": [
    "#### \"Horizontal\" adjustments\n",
    "\n",
    "##### Message type adaptation\n",
    "\n",
    "Let's imagine that we want to attach pretty standard attribute to the log messages which are useful during debugging which is `Severity`. `co-log` provides this data type for us:"
   ]
  },
  {
   "cell_type": "code",
   "execution_count": 9,
   "id": "9f44bfb7-9262-4ddc-b1c6-9bbfbdde66d3",
   "metadata": {},
   "outputs": [],
   "source": [
    "data Severity = Debug | Info | Warn | Error\n",
    "  deriving (Eq, Ord, Show)"
   ]
  },
  {
   "cell_type": "markdown",
   "id": "c80fed25-81fd-4570-9aff-fb1e1b837e3d",
   "metadata": {},
   "source": [
    "Now we can introduce a bit richer message structure plus some formatting helper:"
   ]
  },
  {
   "cell_type": "code",
   "execution_count": 10,
   "id": "5a4971ed-65cd-446c-8c9e-2be255b97a1b",
   "metadata": {},
   "outputs": [],
   "source": [
    "data Message = Message { msgSeverity :: Severity, msgText :: String }\n",
    "\n",
    "fmtMessage :: Message -> String\n",
    "fmtMessage (Message severity msg) = \"[\" <> show severity <> \"] \" <> msg "
   ]
  },
  {
   "cell_type": "markdown",
   "id": "14ff84d4-a06c-4e92-81c3-044169352f1b",
   "metadata": {},
   "source": [
    "Can we use our previously defined `consoleLogAction` or `fileLogAction` but using this richer `Message` structure? Please try to write this adapter given `fmtMessage` function:"
   ]
  },
  {
   "cell_type": "code",
   "execution_count": 11,
   "id": "c8919a95-e2f6-412d-83f5-3422626b91e7",
   "metadata": {},
   "outputs": [
    {
     "data": {
      "text/plain": [
       "[Debug] Adapted string logger test"
      ]
     },
     "metadata": {},
     "output_type": "display_data"
    }
   ],
   "source": [
    "adaptStrLogAction :: LogAction m String -> LogAction m Message\n",
    "adaptStrLogAction (LogAction logAction) = LogAction ??\n",
    "\n",
    "appLogAction' :: LogAction IO Message\n",
    "appLogAction' = adaptStrLogAction appLogAction\n",
    "\n",
    "log appLogAction' (Message Debug \"Adapted string logger test\")"
   ]
  },
  {
   "cell_type": "markdown",
   "id": "eef07af6-05d8-463e-b9aa-afac0c2cc8e8",
   "metadata": {},
   "source": [
    "If we generalize the above adaptation API it forms a bit non intuitive interface which is called contravariant functor:"
   ]
  },
  {
   "cell_type": "code",
   "execution_count": 12,
   "id": "b435161e-6a9f-4aa4-820d-2bec75011667",
   "metadata": {},
   "outputs": [],
   "source": [
    "class Contravariant f where\n",
    "  contramap :: (b -> a) -> f a -> f b"
   ]
  },
  {
   "cell_type": "markdown",
   "id": "78e1a37b-30f4-4183-93b9-7466ce0b55f9",
   "metadata": {},
   "source": [
    "We can read the `contramap` operation semantics in our context like:\n",
    "\n",
    "> Given a `LogAction m a` (let swe have logger which consumes a `String` at hand) and a function which turns `b` into `a` (we have `fmtMessage` which turns `Message` into `String`) we should be able to build a `LogAction m b` (in our case new `LogAction` gonna consume `Message` values).\n",
    "\n",
    "Could you please implement `Contravariant` for `LogAction`:"
   ]
  },
  {
   "cell_type": "code",
   "execution_count": 13,
   "id": "3b628800-65f0-4a69-97d5-2076c714d792",
   "metadata": {},
   "outputs": [
    {
     "data": {
      "text/plain": [
       "[Debug] Adapted using contramap"
      ]
     },
     "metadata": {},
     "output_type": "display_data"
    }
   ],
   "source": [
    "instance Contravariant (LogAction m) where\n",
    "  contramap f (LogAction logAction) = LogAction ??\n",
    "  \n",
    "log (contramap fmtMessage consoleLogAction) (Message Debug \"Adapted using contramap\")"
   ]
  },
  {
   "cell_type": "markdown",
   "id": "6e7a2e0c-8a94-4c7e-a59c-ef32f22bb883",
   "metadata": {},
   "source": [
    "##### Logs context anotation\n",
    "\n",
    "What is really interesting is that we can use the above API also to annotate the logs with context. Let's imagine that we have a subsystem entry point like:"
   ]
  },
  {
   "cell_type": "code",
   "execution_count": 49,
   "id": "d3d1592d-1fba-4d13-aaba-de19236dccdc",
   "metadata": {},
   "outputs": [],
   "source": [
    "worker :: LogAction IO Message -> IO ()\n",
    "worker logAction = do\n",
    "  log logAction (Message Debug \"Initializing\")\n",
    "  threadDelay (2 * 10^6)\n",
    "  log logAction (Message Info \"Processing\")\n",
    "  threadDelay (2 * 10^6)\n",
    "  log logAction (Message Debug \"Shutting down\")"
   ]
  },
  {
   "cell_type": "markdown",
   "id": "d2db8167-75f0-46a3-8240-bc84634c270f",
   "metadata": {},
   "source": [
    "Please note that the above `worker` logs messages related to it's own context because it doesn't know the full application level context which it is \"embedded\" in - it doesn't know its parents, `id` etc.\n",
    "\n",
    "Now let's create an application which spawns a bunch of this workers:"
   ]
  },
  {
   "cell_type": "code",
   "execution_count": 50,
   "id": "5fa76c8e-a7c6-45b0-8732-8afaaf8d77d6",
   "metadata": {},
   "outputs": [],
   "source": [
    "app logAction = do\n",
    "  log logAction (Message Debug \"Initializing application.\")\n",
    "  log logAction (Message Info \"Starting workers swarm\")\n",
    "  for_ [1,2,3,4] \\i -> do\n",
    "    let\n",
    "      workerLogAction = contramap (\\(Message sev msg) -> Message sev $ \"[Worker-\" <> show i <> \"] \" <> msg) logAction\n",
    "    threadDelay (10^5)\n",
    "    forkIO $ worker workerLogAction\n",
    "  threadDelay (5 * 10^6)\n",
    "  log appLogAction' (Message Info \"Collecting results\")\n",
    "  log appLogAction' (Message Debug \"Shutting down\")"
   ]
  },
  {
   "cell_type": "markdown",
   "id": "c7750791-1a0d-4f6a-ae61-abd27d053218",
   "metadata": {},
   "source": [
    "The above code uses really buggy and naive approach to concurrent logging but should work for this simple example. Let's run it and check what kind of logs we gonna get."
   ]
  },
  {
   "cell_type": "code",
   "execution_count": 51,
   "id": "0a41977e-2c11-42e5-83b0-58d294833c75",
   "metadata": {},
   "outputs": [
    {
     "data": {
      "text/plain": [
       "[Debug] Initializing application.\n",
       "[Info] Starting workers swarm\n",
       "[Debug] [Worker-1] Initializing\n",
       "[Debug] [Worker-2] Initializing\n",
       "[Debug] [Worker-3] Initializing\n",
       "[Debug] [Worker-4] Initializing\n",
       "[Info] [Worker-1] Processing\n",
       "[Info] [Worker-2] Processing\n",
       "[Info] [Worker-3] Processing\n",
       "[Info] [Worker-4] Processing\n",
       "[Debug] [Worker-1] Shutting down\n",
       "[Debug] [Worker-2] Shutting down\n",
       "[Debug] [Worker-3] Shutting down\n",
       "[Debug] [Worker-4] Shutting down\n",
       "[Info] Collecting results\n",
       "[Debug] Shutting down"
      ]
     },
     "metadata": {},
     "output_type": "display_data"
    }
   ],
   "source": [
    "app appLogAction'"
   ]
  },
  {
   "cell_type": "markdown",
   "id": "b9bd8725-e9de-4ed1-afca-daac3eb1058e",
   "metadata": {},
   "source": [
    "So we were able to annotate the internal subsystem logs with the context from the outside. Nice!\n",
    "\n",
    "We can also use the same based `contramap` based technique to also annotate \"semantic\" logs - you can imagine that we can have:"
   ]
  },
  {
   "cell_type": "code",
   "execution_count": 42,
   "id": "71cd7e7e-5989-4213-b305-af50e45fb77b",
   "metadata": {},
   "outputs": [],
   "source": [
    "data WorkerLog = Initializing | Processing | ShuttingDown\n",
    "  deriving Show\n",
    "\n",
    "type WorkerId = Int\n",
    "\n",
    "data AppLog = WorkerLog WorkerId WorkerLog | InitializaingApp | ShuttingDownApp\n",
    "  deriving Show\n",
    "  \n",
    "-- Defined just for demonstration purposes\n",
    "appLogAction'' :: LogAction IO AppLog\n",
    "appLogAction'' = LogAction (const $ pure ())"
   ]
  },
  {
   "cell_type": "markdown",
   "id": "52d3e6ca-e2eb-47ec-bb83-0eecf92881e2",
   "metadata": {},
   "source": [
    "Now we can turn our application level logger `LogAction m AppLog` into `LogAction m WorkerLog` just by using `contramap`:"
   ]
  },
  {
   "cell_type": "code",
   "execution_count": 44,
   "id": "05ca7326-5547-4fce-9e28-b0812509610f",
   "metadata": {},
   "outputs": [],
   "source": [
    "workerLogAction :: WorkerId -> LogAction IO WorkerLog\n",
    "workerLogAction i = contramap (WorkerLog i) appLogAction''"
   ]
  },
  {
   "cell_type": "markdown",
   "id": "838a6fc1-a3ae-4df3-af45-d571a9f97051",
   "metadata": {},
   "source": [
    "And this final logger could be passed to the worker subsystem."
   ]
  },
  {
   "cell_type": "markdown",
   "id": "fce170aa-1d15-4b64-bce1-171bf9422c0a",
   "metadata": {},
   "source": [
    "##### Message filtering\n",
    "\n",
    "We can ask ourselves what is the value of the `Message` type if we just turn it into the `String` - we could just use plain `String` and skip it all together. That is not necessarly true - `Severity` value which we carry together with the message can be used for filtering messages so we can have use verbosity level.\n",
    "Let's implement such a filtering function - given a severity value please log only messages which have at least such a level:"
   ]
  },
  {
   "cell_type": "code",
   "execution_count": 57,
   "id": "9afec18c-5148-4f70-94d0-22af9519666b",
   "metadata": {},
   "outputs": [],
   "source": [
    "setVerbosity :: Applicative m => Severity -> LogAction m Message -> LogAction m Message\n",
    "setVerbosity sev (LogAction f) = LogAction $ \\msg@(Message sev' _) -> when (sev <= sev') $ f msg"
   ]
  },
  {
   "cell_type": "markdown",
   "id": "88196c6d-57e3-425c-b104-ddf75eda5bc7",
   "metadata": {},
   "source": [
    "Now we can test it using our previously defined `app`:"
   ]
  },
  {
   "cell_type": "code",
   "execution_count": 59,
   "id": "4668f4d3-060b-4203-9696-9867fe5fe61d",
   "metadata": {},
   "outputs": [
    {
     "data": {
      "text/plain": [
       "[Info] Starting workers swarm\n",
       "[Info] [Worker-1] Processing\n",
       "[Info] [Worker-2] Processing\n",
       "[Info] [Worker-3] Processing\n",
       "[Info] [Worker-4] Processing\n",
       "[Info] Collecting results\n",
       "[Debug] Shutting down"
      ]
     },
     "metadata": {},
     "output_type": "display_data"
    }
   ],
   "source": [
    "app (setVerbosity Info appLogAction')"
   ]
  },
  {
   "cell_type": "code",
   "execution_count": null,
   "id": "70301ea6-1907-4b21-97e6-baa1957d31b6",
   "metadata": {},
   "outputs": [],
   "source": []
  }
 ],
 "metadata": {
  "kernelspec": {
   "display_name": "Haskell",
   "language": "haskell",
   "name": "haskell"
  },
  "language_info": {
   "codemirror_mode": "ihaskell",
   "file_extension": ".hs",
   "mimetype": "text/x-haskell",
   "name": "haskell",
   "pygments_lexer": "Haskell",
   "version": "8.10.7"
  }
 },
 "nbformat": 4,
 "nbformat_minor": 5
}
