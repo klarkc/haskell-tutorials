{
 "cells": [
  {
   "cell_type": "markdown",
   "id": "1f9cbd14-088b-4f30-b289-6ccfa9d03840",
   "metadata": {},
   "source": [
    "### Introduction to contravariant logging\n",
    "\n",
    "We decided to use contravariant logging approach. I use here `co-log` lib naming convention because that is what we have in the code base now (`cardano-node` uses `contra-tracer`).\n",
    "\n",
    "Some initial boilerplate imports and language extensions:"
   ]
  },
  {
   "cell_type": "code",
   "execution_count": 2,
   "id": "b6efcdda-d81b-4b4c-a7d7-9a94dbcd2177",
   "metadata": {},
   "outputs": [],
   "source": [
    ":ext GeneralizedNewtypeDeriving\n",
    ":ext BlockArguments\n",
    "\n",
    "import Control.Concurrent (threadDelay)"
   ]
  },
  {
   "cell_type": "markdown",
   "id": "a4086bf4-e8ba-4b64-92a9-4be92be9905a",
   "metadata": {},
   "source": [
    "Let's define the core logging data type which is just a logging function `msg -> m ()` (for example `Text -> IO ()`). We wrap in a `newtype` and call it `LogAction`:"
   ]
  },
  {
   "cell_type": "code",
   "execution_count": 3,
   "id": "effaa10f-a732-4701-a429-4205737603f1",
   "metadata": {},
   "outputs": [],
   "source": [
    "newtype LogAction m msg = LogAction (msg -> m ())\n",
    "\n",
    "-- Let's define a handy runner which just applies the function.\n",
    "log :: LogAction m msg -> msg -> m ()\n",
    "log (LogAction l) = l"
   ]
  },
  {
   "cell_type": "markdown",
   "id": "f8ff3103-202e-4746-8357-7ee8cc297eb2",
   "metadata": {},
   "source": [
    "For example `putStrLn` can be easily turned into a log action and it is `String` logging action in `IO`:"
   ]
  },
  {
   "cell_type": "code",
   "execution_count": 4,
   "id": "42be0fcf-b905-42a6-9fbc-9d3388c594c8",
   "metadata": {},
   "outputs": [],
   "source": [
    "consoleLogAction :: LogAction IO String\n",
    "consoleLogAction = LogAction putStrLn"
   ]
  },
  {
   "cell_type": "markdown",
   "id": "cb830eed-53e7-4564-8e86-2605e0da0eb1",
   "metadata": {},
   "source": [
    "We can also easily implement a file logger (but please don't use it in production ;-):"
   ]
  },
  {
   "cell_type": "code",
   "execution_count": 5,
   "id": "ba0e102b-a1ab-4e9e-819e-5affbb357860",
   "metadata": {},
   "outputs": [],
   "source": [
    "fileLogAction :: FilePath -> LogAction IO String\n",
    "fileLogAction filePath = LogAction \\msg -> appendFile filePath (msg <> \"\\n\")"
   ]
  },
  {
   "cell_type": "markdown",
   "id": "94e7f7cf-c5d9-414b-b40c-f3727fefe992",
   "metadata": {},
   "source": [
    "#### Combining actions \"veritically\"\n",
    "\n",
    "> Note: I used \"vertically\" in the title because we can imagine that we have a logging pipeline - `log entry -> log transformation / adjustment -> log consumers`. From the application point of view we have a single entry point to this pipeline.\n",
    "\n",
    "If we have loggers which work with the same message type (`String` in our case) I think that we have pretty natural way of \"combining\" the logging actions - we are nearly able to use `deriving newtype` for that and use `->` and `m ()` underlying instances but let's write this composition by hand... I mean please implement `<>` and `mempty`: "
   ]
  },
  {
   "cell_type": "code",
   "execution_count": 6,
   "id": "00ff3eb4-4b55-4416-95f7-129431f88a93",
   "metadata": {
    "tags": []
   },
   "outputs": [],
   "source": [
    "instance (Applicative m) => Semigroup (LogAction m msg) where\n",
    "  LogAction log1 <> LogAction log2 = LogAction \\msg -> log1 msg *> log2 msg\n",
    "  \n",
    "instance (Applicative m) => Monoid (LogAction m msg) where\n",
    "  mempty = LogAction \\msg -> pure ()"
   ]
  },
  {
   "cell_type": "markdown",
   "id": "bcd75048-022d-4ecc-ba1a-f13389a6dda2",
   "metadata": {},
   "source": [
    "We should be able to compose multiple loggers now:"
   ]
  },
  {
   "cell_type": "code",
   "execution_count": 7,
   "id": "6ba71c4d-47bd-43c3-8ebe-d35cda9b3610",
   "metadata": {},
   "outputs": [],
   "source": [
    "appLogAction = consoleLogAction <> fileLogAction \"app.log\""
   ]
  },
  {
   "cell_type": "markdown",
   "id": "7add0423-c4b9-4f11-80bd-087fa6a57791",
   "metadata": {},
   "source": [
    "So let's log something.."
   ]
  },
  {
   "cell_type": "code",
   "execution_count": 8,
   "id": "361bc4a1-1254-4195-903e-ddeda284f24a",
   "metadata": {},
   "outputs": [
    {
     "data": {
      "text/plain": [
       "Hello World!"
      ]
     },
     "metadata": {},
     "output_type": "display_data"
    }
   ],
   "source": [
    "log appLogAction \"Hello World!\""
   ]
  },
  {
   "cell_type": "markdown",
   "id": "46a5bd92-4361-4db7-8b35-2e53efebb42e",
   "metadata": {},
   "source": [
    "and check if both loggers have consumed the message: "
   ]
  },
  {
   "cell_type": "code",
   "execution_count": 9,
   "id": "e62cb6ac-4492-4a96-8427-3982260c5015",
   "metadata": {},
   "outputs": [
    {
     "data": {
      "text/plain": [
       "Hello World!"
      ]
     },
     "metadata": {},
     "output_type": "display_data"
    }
   ],
   "source": [
    "readFile \"app.log\" >>= putStrLn"
   ]
  },
  {
   "cell_type": "markdown",
   "id": "4cd7e2ff-dd38-46ad-b6c3-187cf9f05e16",
   "metadata": {},
   "source": [
    "#### \"Horizontal\" adjustments\n",
    "\n",
    "##### Message type adaptation\n",
    "\n",
    "Let's imagine that we want to attach pretty standard attribute to the log messages which are useful during debugging which is `Severity`. `co-log` provides this data type for us:"
   ]
  },
  {
   "cell_type": "code",
   "execution_count": 10,
   "id": "9f44bfb7-9262-4ddc-b1c6-9bbfbdde66d3",
   "metadata": {},
   "outputs": [],
   "source": [
    "data Severity = Debug | Info | Warn | Error\n",
    "  deriving (Eq, Ord, Show)"
   ]
  },
  {
   "cell_type": "markdown",
   "id": "c80fed25-81fd-4570-9aff-fb1e1b837e3d",
   "metadata": {},
   "source": [
    "Now we can introduce a bit richer message structure plus some formatting helper:"
   ]
  },
  {
   "cell_type": "code",
   "execution_count": 11,
   "id": "5a4971ed-65cd-446c-8c9e-2be255b97a1b",
   "metadata": {},
   "outputs": [],
   "source": [
    "data Message = Message { msgSeverity :: Severity, msgText :: String }\n",
    "\n",
    "fmtMessage :: Message -> String\n",
    "fmtMessage (Message severity msg) = \"[\" <> show severity <> \"] \" <> msg "
   ]
  },
  {
   "cell_type": "markdown",
   "id": "14ff84d4-a06c-4e92-81c3-044169352f1b",
   "metadata": {},
   "source": [
    "Can we use our previously defined `consoleLogAction` or `fileLogAction` but using this richer `Message` structure? Please try to write this adapter given `fmtMessage` function:"
   ]
  },
  {
   "cell_type": "code",
   "execution_count": 12,
   "id": "c8919a95-e2f6-412d-83f5-3422626b91e7",
   "metadata": {},
   "outputs": [
    {
     "data": {
      "text/plain": [
       "[Debug] Adapted string logger test"
      ]
     },
     "metadata": {},
     "output_type": "display_data"
    }
   ],
   "source": [
    "adaptStrLogAction :: LogAction m String -> LogAction m Message\n",
    "adaptStrLogAction (LogAction logAction) = LogAction $ logAction . fmtMessage\n",
    "\n",
    "appLogAction' :: LogAction IO Message\n",
    "appLogAction' = adaptStrLogAction appLogAction\n",
    "\n",
    "log appLogAction' (Message Debug \"Adapted string logger test\")"
   ]
  },
  {
   "cell_type": "markdown",
   "id": "eef07af6-05d8-463e-b9aa-afac0c2cc8e8",
   "metadata": {},
   "source": [
    "If we generalize the above adaptation API it forms a bit non intuitive interface which is called contravariant functor:"
   ]
  },
  {
   "cell_type": "code",
   "execution_count": 13,
   "id": "b435161e-6a9f-4aa4-820d-2bec75011667",
   "metadata": {},
   "outputs": [],
   "source": [
    "class Contravariant f where\n",
    "  contramap :: (b -> a) -> f a -> f b"
   ]
  },
  {
   "cell_type": "markdown",
   "id": "78e1a37b-30f4-4183-93b9-7466ce0b55f9",
   "metadata": {},
   "source": [
    "We can read the `contramap` operation semantics in our context like:\n",
    "\n",
    "> Given a `LogAction m a` (let swe have logger which consumes a `String` at hand) and a function which turns `b` into `a` (we have `fmtMessage` which turns `Message` into `String`) we should be able to build a `LogAction m b` (in our case new `LogAction` gonna consume `Message` values).\n",
    "\n",
    "Could you please implement `Contravariant` for `LogAction`:"
   ]
  },
  {
   "cell_type": "code",
   "execution_count": 38,
   "id": "3b628800-65f0-4a69-97d5-2076c714d792",
   "metadata": {},
   "outputs": [
    {
     "data": {
      "text/plain": [
       "[Debug] Adapted using contramap"
      ]
     },
     "metadata": {},
     "output_type": "display_data"
    }
   ],
   "source": [
    "instance Contravariant (LogAction m) where\n",
    "  contramap f (LogAction logAction) = LogAction (logAction . f)\n",
    "  \n",
    "log (contramap fmtMessage consoleLogAction) (Message Debug \"Adapted using contramap\")"
   ]
  },
  {
   "cell_type": "markdown",
   "id": "6e7a2e0c-8a94-4c7e-a59c-ef32f22bb883",
   "metadata": {},
   "source": [
    "##### Logs context anotation\n",
    "\n",
    "What is really interesting is that we can use the above API also to annotate the logs with context. Let's imagine that we have a subsystem entry point like:\n",
    "\n",
    "```haskell\n",
    "runSubsystem1 :: LogAction IO String -> IO ()\n",
    "```\n",
    "\n",
    "We can enhance the logger and pass it to the subsystem like:\n",
    "\n",
    "```haskell\n",
    "app = do\n",
    "  appLogAction = consoleLogAction\n",
    "  ...\n",
    "  let\n",
    "    subsystem1LogAction = contramap (\\msg -> \"[Subsystem]\" <> msg) appLogAction\n",
    "  runSubsystem subsystem1LogAction\n",
    "```\n",
    "\n",
    "If we imagine that we are representing log entries using app / subsystem specific type we could also use the same approach:\n",
    "\n",
    "```\n",
    "data AppLog = Subsystem1 ... | Subsystem2 ...\n",
    "\n",
    "data Subsystem1Log = InitializationStarted | InitializationSucceeded | ...\n",
    "\n",
    "runSubsystem1 :: LogAction IO Subsystem1Log -> IO ()\n",
    "runSubsystem1 logAction = ...\n",
    "\n",
    "appLogAction :: LogAction IO AppLog -> IO ()\n",
    "appLogAction logAction = ...\n",
    "\n",
    "app = do\n",
    "  let\n",
    "    subsystem1LogAction = contramap Subsystem1 appLogAction\n",
    "  runSubsystem subsystem1LogAction\n",
    "```\n"
   ]
  }
 ],
 "metadata": {
  "kernelspec": {
   "display_name": "Haskell",
   "language": "haskell",
   "name": "haskell"
  },
  "language_info": {
   "codemirror_mode": "ihaskell",
   "file_extension": ".hs",
   "mimetype": "text/x-haskell",
   "name": "haskell",
   "pygments_lexer": "Haskell",
   "version": "8.10.7"
  }
 },
 "nbformat": 4,
 "nbformat_minor": 5
}
