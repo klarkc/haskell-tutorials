{
 "cells": [
  {
   "cell_type": "code",
   "execution_count": 32,
   "id": "49f9daeb-9a38-4799-bb9c-ce63279dc99a",
   "metadata": {},
   "outputs": [],
   "source": [
    ":ext GeneralizedNewtypeDeriving\n",
    ":ext BlockArguments"
   ]
  },
  {
   "cell_type": "markdown",
   "id": "a4086bf4-e8ba-4b64-92a9-4be92be9905a",
   "metadata": {},
   "source": [
    "### Introduction to contravariant logging\n",
    "\n",
    "We decided to use contravariant logging approach. I use here `co-log` lib naming convention because that is what we have in the code base now (`cardano-node` uses `contra-tracer`).\n",
    "\n",
    "The core type is just a logging function `msg -> m ()` (for example `Text -> IO ()`). We wrap in a `newtype` and call it `LogAction`:"
   ]
  },
  {
   "cell_type": "code",
   "execution_count": 33,
   "id": "effaa10f-a732-4701-a429-4205737603f1",
   "metadata": {},
   "outputs": [],
   "source": [
    "newtype LogAction m msg = LogAction (msg -> m ())"
   ]
  },
  {
   "cell_type": "markdown",
   "id": "f8ff3103-202e-4746-8357-7ee8cc297eb2",
   "metadata": {},
   "source": [
    "For example `putStrLn` can be easily turned into a log action and it is `String` logging action in `IO`:"
   ]
  },
  {
   "cell_type": "code",
   "execution_count": 34,
   "id": "42be0fcf-b905-42a6-9fbc-9d3388c594c8",
   "metadata": {},
   "outputs": [],
   "source": [
    "consoleLogAction :: LogAction IO String\n",
    "consoleLogAction = LogAction putStrLn"
   ]
  },
  {
   "cell_type": "markdown",
   "id": "cb830eed-53e7-4564-8e86-2605e0da0eb1",
   "metadata": {},
   "source": [
    "We can also easily implement a file logger (but please don't use it in production ;-):"
   ]
  },
  {
   "cell_type": "code",
   "execution_count": 35,
   "id": "ba0e102b-a1ab-4e9e-819e-5affbb357860",
   "metadata": {},
   "outputs": [],
   "source": [
    "fileLogAction :: FilePath -> LogAction IO String\n",
    "fileLogAction filePath = LogAction \\msg -> appendFile filePath (msg <> \"\\n\")"
   ]
  },
  {
   "cell_type": "markdown",
   "id": "94e7f7cf-c5d9-414b-b40c-f3727fefe992",
   "metadata": {},
   "source": [
    "#### Combining actions \"veritically\"\n",
    "\n",
    "> Note: I used \"vertically\" in the title because we can imagine that we have a logging pipeline - `log entry -> log transformation / adjustment -> log consumers`. From the application point of view we have a single entry point to this pipeline.\n",
    "\n",
    "If we have loggers which work with the same message type (`String` in our case) we have pretty natural way of combining we are nearly able to use `deriving newtype` for that and use `->` and `m ()` underlying instances but let's write this composition by hand...\n",
    "I mean please implement this composition: "
   ]
  },
  {
   "cell_type": "code",
   "execution_count": 36,
   "id": "00ff3eb4-4b55-4416-95f7-129431f88a93",
   "metadata": {
    "tags": []
   },
   "outputs": [],
   "source": [
    "instance (Applicative m) => Semigroup (LogAction m msg) where\n",
    "  LogAction log1 <> LogAction log2 = LogAction \\msg -> log1 msg *> log2 msg\n",
    "  \n",
    "instance (Applicative m) => Monoid (LogAction m msg) where\n",
    "  mempty = LogAction \\msg -> pure ()"
   ]
  },
  {
   "cell_type": "code",
   "execution_count": null,
   "id": "9fd60f7a-c33b-43d1-bc52-e1a19631994d",
   "metadata": {},
   "outputs": [],
   "source": []
  }
 ],
 "metadata": {
  "kernelspec": {
   "display_name": "Haskell",
   "language": "haskell",
   "name": "haskell"
  },
  "language_info": {
   "codemirror_mode": "ihaskell",
   "file_extension": ".hs",
   "mimetype": "text/x-haskell",
   "name": "haskell",
   "pygments_lexer": "Haskell",
   "version": "8.10.7"
  }
 },
 "nbformat": 4,
 "nbformat_minor": 5
}
